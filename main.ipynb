{
 "cells": [
  {
   "cell_type": "markdown",
   "metadata": {},
   "source": [
    "# Spark Pipeline with Kaggle Data"
   ]
  },
  {
   "cell_type": "markdown",
   "metadata": {},
   "source": [
    "### 1. Set Up the Data"
   ]
  },
  {
   "cell_type": "code",
   "execution_count": 3,
   "metadata": {},
   "outputs": [
    {
     "data": {
      "text/plain": [
       "<bound method DataFrame.describe of DataFrame[date: date, open: float, high: float, low: float, close: float, volume: float, currency: string]>"
      ]
     },
     "execution_count": 3,
     "metadata": {},
     "output_type": "execute_result"
    }
   ],
   "source": [
    "from pyspark.sql import SparkSession\n",
    "import pyspark.sql.functions as sf\n",
    "import pyspark.sql.types as st\n",
    "\n",
    "# Creating a spark session\n",
    "spark = SparkSession.builder.master('local').getOrCreate()\n",
    "coffee_csv = './data/coffee.csv'\n",
    "# All the columns should be floats except for the 'Date' and 'Currency' columns.\n",
    "schema = 'date date,open float,high float,low float,close float,volume float,currency string'\n",
    "# Read the coffee data CSV file into a Spark DataFrame.\n",
    "df = spark.read.csv(coffee_csv, schema=schema, header=True, enforceSchema=True)\n",
    "df.describe"
   ]
  },
  {
   "cell_type": "markdown",
   "metadata": {},
   "source": [
    "### Columns from Aggregate Functions"
   ]
  },
  {
   "cell_type": "code",
   "execution_count": 11,
   "metadata": {},
   "outputs": [
    {
     "name": "stdout",
     "output_type": "stream",
     "text": [
      "+----------+------+-----+------+------+------+--------+------------------+-----------------+------------+\n",
      "|      date|  open| high|   low| close|volume|currency|daily_price_change|daily_fluctuation|vol_over_100|\n",
      "+----------+------+-----+------+------+------+--------+------------------+-----------------+------------+\n",
      "|2000-01-03|122.25|124.0| 116.1| 116.5|6640.0|     USD|              5.75|        7.9000015|        true|\n",
      "|2000-01-04|116.25|120.5|115.75|116.25|5492.0|     USD|               0.0|             4.75|        true|\n",
      "|2000-01-05| 115.0|121.0| 115.0| 118.6|6165.0|     USD|        -3.5999985|              6.0|        true|\n",
      "+----------+------+-----+------+------+------+--------+------------------+-----------------+------------+\n",
      "only showing top 3 rows\n",
      "\n"
     ]
    },
    {
     "data": {
      "text/plain": [
       "['date',\n",
       " 'open',\n",
       " 'high',\n",
       " 'low',\n",
       " 'close',\n",
       " 'volume',\n",
       " 'currency',\n",
       " 'daily_price_change',\n",
       " 'daily_fluctuation',\n",
       " 'vol_over_100']"
      ]
     },
     "execution_count": 11,
     "metadata": {},
     "output_type": "execute_result"
    }
   ],
   "source": [
    "# Add a column to the DataFrame where the values are the difference between 'Open' and 'Close'.\n",
    "df = df.withColumn('daily_price_change', df.open - df.close)\n",
    "# Add a column to the DataFrame where the values are the difference between 'High' and 'Low'.\n",
    "df = df.withColumn('daily_fluctuation', df.high - df.low)\n",
    "# Add a column to the DataFrame where the values are 'True' if the volume for that day was 100 or above, and otherwise 'False'.\n",
    "df = df.withColumn('vol_over_100', df.volume > 100)\n",
    "\n",
    "df.show(3)\n",
    "df.columns"
   ]
  },
  {
   "cell_type": "code",
   "execution_count": null,
   "metadata": {},
   "outputs": [],
   "source": []
  }
 ],
 "metadata": {
  "kernelspec": {
   "display_name": "Python 3.7.13 ('venv': venv)",
   "language": "python",
   "name": "python3"
  },
  "language_info": {
   "codemirror_mode": {
    "name": "ipython",
    "version": 3
   },
   "file_extension": ".py",
   "mimetype": "text/x-python",
   "name": "python",
   "nbconvert_exporter": "python",
   "pygments_lexer": "ipython3",
   "version": "3.7.13"
  },
  "orig_nbformat": 4,
  "vscode": {
   "interpreter": {
    "hash": "a3739c197794c7f362e00a70de3905028fd2f812179ab84802de3811a6478d73"
   }
  }
 },
 "nbformat": 4,
 "nbformat_minor": 2
}
