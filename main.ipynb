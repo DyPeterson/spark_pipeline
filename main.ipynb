{
 "cells": [
  {
   "cell_type": "markdown",
   "metadata": {},
   "source": [
    "# Spark Pipeline with Kaggle Data"
   ]
  },
  {
   "cell_type": "markdown",
   "metadata": {},
   "source": [
    "### 1. Set Up the Data"
   ]
  },
  {
   "cell_type": "code",
   "execution_count": 70,
   "metadata": {},
   "outputs": [
    {
     "data": {
      "text/plain": [
       "<bound method DataFrame.describe of DataFrame[date: date, open: float, high: float, low: float, close: float, volume: float, currency: string]>"
      ]
     },
     "execution_count": 70,
     "metadata": {},
     "output_type": "execute_result"
    }
   ],
   "source": [
    "from pyspark.sql import SparkSession\n",
    "import pyspark.sql.functions as sf\n",
    "import pyspark.sql.types as st\n",
    "\n",
    "# Creating a spark session\n",
    "spark = SparkSession.builder.master('local').getOrCreate()\n",
    "coffee_csv = './data/coffee.csv'\n",
    "# All the columns should be floats except for the 'Date' and 'Currency' columns.\n",
    "schema = 'date date,open float,high float,low float,close float,volume float,currency string'\n",
    "# Read the coffee data CSV file into a Spark DataFrame.\n",
    "df = spark.read.csv(coffee_csv, schema=schema, header=True, enforceSchema=True)\n",
    "df.describe"
   ]
  },
  {
   "cell_type": "markdown",
   "metadata": {},
   "source": [
    "### Columns from Aggregate Functions"
   ]
  },
  {
   "cell_type": "code",
   "execution_count": 71,
   "metadata": {},
   "outputs": [
    {
     "name": "stdout",
     "output_type": "stream",
     "text": [
      "+----------+------+-----+------+------+------+--------+------------------+-----------------+------------+\n",
      "|      date|  open| high|   low| close|volume|currency|daily_price_change|daily_fluctuation|vol_over_100|\n",
      "+----------+------+-----+------+------+------+--------+------------------+-----------------+------------+\n",
      "|2000-01-03|122.25|124.0| 116.1| 116.5|6640.0|     USD|               6.0|              8.0|        true|\n",
      "|2000-01-04|116.25|120.5|115.75|116.25|5492.0|     USD|               0.0|              5.0|        true|\n",
      "|2000-01-05| 115.0|121.0| 115.0| 118.6|6165.0|     USD|              -4.0|              6.0|        true|\n",
      "+----------+------+-----+------+------+------+--------+------------------+-----------------+------------+\n",
      "only showing top 3 rows\n",
      "\n"
     ]
    },
    {
     "data": {
      "text/plain": [
       "['date',\n",
       " 'open',\n",
       " 'high',\n",
       " 'low',\n",
       " 'close',\n",
       " 'volume',\n",
       " 'currency',\n",
       " 'daily_price_change',\n",
       " 'daily_fluctuation',\n",
       " 'vol_over_100']"
      ]
     },
     "execution_count": 71,
     "metadata": {},
     "output_type": "execute_result"
    }
   ],
   "source": [
    "# Add a column to the DataFrame where the values are the difference between 'Open' and 'Close'.\n",
    "df = df.withColumn('daily_price_change', sf.round(df.open - df.close))\n",
    "# Add a column to the DataFrame where the values are the difference between 'High' and 'Low'.\n",
    "df = df.withColumn('daily_fluctuation', sf.round(df.high - df.low))\n",
    "# Add a column to the DataFrame where the values are 'True' if the volume for that day was 100 or above, and otherwise 'False'.\n",
    "df = df.withColumn('vol_over_100', df.volume > 100)\n",
    "\n",
    "df.show(3)\n",
    "df.columns"
   ]
  },
  {
   "cell_type": "code",
   "execution_count": 80,
   "metadata": {},
   "outputs": [],
   "source": [
    "# add a column that contains the absolute values of the numbers in the daily_price_change column\n",
    "df = df.withColumn('daily_price_swing', sf.abs(df.daily_price_change))\n",
    "\n",
    "# Compute a column called net_sales which is the average of opening, high, low, and closing cost times the volume: net_sales = avg(opening, high, low, closing price) * volume\n",
    "#   Create a new df for the net_sales\n",
    "net_sales_df = df.groupBy('date','volume').agg(sf.round(df.volume*(sf.mean(df.open + df.high + df.low + df.close))).alias('net_sales'))\n",
    "# Join new dataframe onto main dataframe\n",
    "df = df.join(net_sales_df, on=['date','volume'])"
   ]
  },
  {
   "cell_type": "markdown",
   "metadata": {},
   "source": [
    "### Stats"
   ]
  },
  {
   "cell_type": "code",
   "execution_count": 63,
   "metadata": {},
   "outputs": [
    {
     "name": "stdout",
     "output_type": "stream",
     "text": [
      "+--------------------------------+\n",
      "|round(avg(daily_price_swing), 0)|\n",
      "+--------------------------------+\n",
      "|                             2.0|\n",
      "+--------------------------------+\n",
      "\n"
     ]
    }
   ],
   "source": [
    "# Find the average of the values in the column that has the absolute values of the difference between 'Open' and 'Close'.\n",
    "df.select(sf.round(sf.mean('daily_price_swing'))).show()"
   ]
  },
  {
   "cell_type": "code",
   "execution_count": 66,
   "metadata": {},
   "outputs": [
    {
     "data": {
      "text/plain": [
       "1644"
      ]
     },
     "execution_count": 66,
     "metadata": {},
     "output_type": "execute_result"
    }
   ],
   "source": [
    "# Get the count of values where the 'Volume' was less than 100.\n",
    "# df.select('vol_over_100').where(df.vol_over_100 == False).count()\n",
    "df.where(df.vol_over_100 == False).count()"
   ]
  },
  {
   "cell_type": "code",
   "execution_count": 62,
   "metadata": {},
   "outputs": [
    {
     "name": "stdout",
     "output_type": "stream",
     "text": [
      "+-------------------+\n",
      "|round(avg(open), 0)|\n",
      "+-------------------+\n",
      "|              126.0|\n",
      "+-------------------+\n",
      "\n"
     ]
    }
   ],
   "source": [
    "# Find the average 'Open' value.\n",
    "df.select(sf.round(sf.mean('open'))).show()"
   ]
  },
  {
   "cell_type": "code",
   "execution_count": 65,
   "metadata": {},
   "outputs": [
    {
     "name": "stdout",
     "output_type": "stream",
     "text": [
      "+---------+\n",
      "|max(high)|\n",
      "+---------+\n",
      "|   306.25|\n",
      "+---------+\n",
      "\n"
     ]
    }
   ],
   "source": [
    "# Get the highest 'High' value.\n",
    "df.select(sf.max('high')).show()"
   ]
  },
  {
   "cell_type": "markdown",
   "metadata": {},
   "source": [
    "### Write File"
   ]
  },
  {
   "cell_type": "code",
   "execution_count": 81,
   "metadata": {},
   "outputs": [
    {
     "name": "stderr",
     "output_type": "stream",
     "text": [
      "                                                                                \r"
     ]
    }
   ],
   "source": [
    "# Write the code to save the DataFrame with the four new columns created above as a Parquet file in the /data directory\n",
    "df.write.parquet(\"./data/coffee_parquet\", mode='overwrite')\n"
   ]
  }
 ],
 "metadata": {
  "kernelspec": {
   "display_name": "Python 3.7.13 ('venv': venv)",
   "language": "python",
   "name": "python3"
  },
  "language_info": {
   "codemirror_mode": {
    "name": "ipython",
    "version": 3
   },
   "file_extension": ".py",
   "mimetype": "text/x-python",
   "name": "python",
   "nbconvert_exporter": "python",
   "pygments_lexer": "ipython3",
   "version": "3.7.13"
  },
  "orig_nbformat": 4,
  "vscode": {
   "interpreter": {
    "hash": "a3739c197794c7f362e00a70de3905028fd2f812179ab84802de3811a6478d73"
   }
  }
 },
 "nbformat": 4,
 "nbformat_minor": 2
}
