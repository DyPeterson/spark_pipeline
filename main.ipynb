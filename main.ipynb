{
 "cells": [
  {
   "cell_type": "markdown",
   "metadata": {},
   "source": [
    "# Spark Pipeline with Kaggle Data"
   ]
  },
  {
   "cell_type": "markdown",
   "metadata": {},
   "source": [
    "### 1. Set Up the Data"
   ]
  },
  {
   "cell_type": "code",
   "execution_count": 3,
   "metadata": {},
   "outputs": [
    {
     "data": {
      "text/plain": [
       "<bound method DataFrame.describe of DataFrame[date: date, open: float, high: float, low: float, close: float, volume: float, currency: string]>"
      ]
     },
     "execution_count": 3,
     "metadata": {},
     "output_type": "execute_result"
    }
   ],
   "source": [
    "from pyspark.sql import SparkSession\n",
    "import pyspark.sql.functions as sf\n",
    "import pyspark.sql.types as st\n",
    "\n",
    "# Creating a spark session\n",
    "spark = SparkSession.builder.master('local').getOrCreate()\n",
    "coffee_csv = './data/coffee.csv'\n",
    "# All the columns should be floats except for the 'Date' and 'Currency' columns.\n",
    "schema = 'date date,open float,high float,low float,close float,volume float,currency string'\n",
    "# Read the coffee data CSV file into a Spark DataFrame.\n",
    "df = spark.read.csv(coffee_csv, schema=schema, header=True, enforceSchema=True)\n",
    "df.describe"
   ]
  },
  {
   "cell_type": "markdown",
   "metadata": {},
   "source": [
    "### Columns from Aggregate Functions"
   ]
  },
  {
   "cell_type": "code",
   "execution_count": 17,
   "metadata": {},
   "outputs": [
    {
     "name": "stdout",
     "output_type": "stream",
     "text": [
      "+----------+------+-----+------+------+------+--------+------------------+-----------------+------------+\n",
      "|      date|  open| high|   low| close|volume|currency|daily_price_change|daily_fluctuation|vol_over_100|\n",
      "+----------+------+-----+------+------+------+--------+------------------+-----------------+------------+\n",
      "|2000-01-03|122.25|124.0| 116.1| 116.5|6640.0|     USD|               6.0|              8.0|        true|\n",
      "|2000-01-04|116.25|120.5|115.75|116.25|5492.0|     USD|               0.0|              5.0|        true|\n",
      "|2000-01-05| 115.0|121.0| 115.0| 118.6|6165.0|     USD|              -4.0|              6.0|        true|\n",
      "+----------+------+-----+------+------+------+--------+------------------+-----------------+------------+\n",
      "only showing top 3 rows\n",
      "\n"
     ]
    },
    {
     "data": {
      "text/plain": [
       "['date',\n",
       " 'open',\n",
       " 'high',\n",
       " 'low',\n",
       " 'close',\n",
       " 'volume',\n",
       " 'currency',\n",
       " 'daily_price_change',\n",
       " 'daily_fluctuation',\n",
       " 'vol_over_100']"
      ]
     },
     "execution_count": 17,
     "metadata": {},
     "output_type": "execute_result"
    }
   ],
   "source": [
    "# Add a column to the DataFrame where the values are the difference between 'Open' and 'Close'.\n",
    "df = df.withColumn('daily_price_change', sf.round(df.open - df.close))\n",
    "# Add a column to the DataFrame where the values are the difference between 'High' and 'Low'.\n",
    "df = df.withColumn('daily_fluctuation', sf.round(df.high - df.low))\n",
    "# Add a column to the DataFrame where the values are 'True' if the volume for that day was 100 or above, and otherwise 'False'.\n",
    "df = df.withColumn('vol_over_100', df.volume > 100)\n",
    "\n",
    "df.show(3)\n",
    "df.columns"
   ]
  },
  {
   "cell_type": "code",
   "execution_count": 34,
   "metadata": {},
   "outputs": [
    {
     "name": "stdout",
     "output_type": "stream",
     "text": [
      "+----------+------+------+------+------+------+--------+------------------+-----------------+------------+-----------------+------+---------+\n",
      "|      date|  open|  high|   low| close|volume|currency|daily_price_change|daily_fluctuation|vol_over_100|daily_price_swing|volume|net_sales|\n",
      "+----------+------+------+------+------+------+--------+------------------+-----------------+------------+-----------------+------+---------+\n",
      "|2000-01-03|122.25| 124.0| 116.1| 116.5|6640.0|     USD|               6.0|              8.0|        true|              6.0|6640.0|3179564.0|\n",
      "|2000-01-04|116.25| 120.5|115.75|116.25|5492.0|     USD|               0.0|              5.0|        true|              0.0|5492.0|2574375.0|\n",
      "|2000-01-05| 115.0| 121.0| 115.0| 118.6|6165.0|     USD|              -4.0|              6.0|        true|              4.0|6165.0|2895084.0|\n",
      "|2000-01-06| 119.0| 121.4| 116.5|116.85|5094.0|     USD|               2.0|              5.0|        true|              2.0|5094.0|2413283.0|\n",
      "|2000-01-07|117.25|117.75| 113.8|114.15|6855.0|     USD|               3.0|              4.0|        true|              3.0|6855.0|3173522.0|\n",
      "+----------+------+------+------+------+------+--------+------------------+-----------------+------------+-----------------+------+---------+\n",
      "only showing top 5 rows\n",
      "\n"
     ]
    }
   ],
   "source": [
    "# add a column that contains the absolute values of the numbers in the daily_price_change column\n",
    "df = df.withColumn('daily_price_swing', sf.abs(df.daily_price_change))\n",
    "\n",
    "# Compute a column called net_sales which is the average of opening, high, low, and closing cost times the volume: net_sales = avg(opening, high, low, closing price) * volume\n",
    "#   Create a new df for the net_sales\n",
    "net_sales_df = df.groupBy('date', 'volume').agg(sf.round(df.volume*(sf.mean(df.open + df.high + df.low + df.close))).alias('net_sales'))\n",
    "# Join new dataframe onto main dataframe\n",
    "df = df.join(net_sales_df,on='date' , how='left')\n",
    "\n",
    "df.show(5)\n"
   ]
  },
  {
   "cell_type": "markdown",
   "metadata": {},
   "source": [
    "### Stats"
   ]
  },
  {
   "cell_type": "code",
   "execution_count": 63,
   "metadata": {},
   "outputs": [
    {
     "name": "stdout",
     "output_type": "stream",
     "text": [
      "+--------------------------------+\n",
      "|round(avg(daily_price_swing), 0)|\n",
      "+--------------------------------+\n",
      "|                             2.0|\n",
      "+--------------------------------+\n",
      "\n"
     ]
    }
   ],
   "source": [
    "# Find the average of the values in the column that has the absolute values of the difference between 'Open' and 'Close'.\n",
    "df.select(sf.round(sf.mean('daily_price_swing'))).show()"
   ]
  },
  {
   "cell_type": "code",
   "execution_count": 66,
   "metadata": {},
   "outputs": [
    {
     "data": {
      "text/plain": [
       "1644"
      ]
     },
     "execution_count": 66,
     "metadata": {},
     "output_type": "execute_result"
    }
   ],
   "source": [
    "# Get the count of values where the 'Volume' was less than 100.\n",
    "# df.select('vol_over_100').where(df.vol_over_100 == False).count()\n",
    "df.where(df.vol_over_100 == False).count()"
   ]
  },
  {
   "cell_type": "code",
   "execution_count": 62,
   "metadata": {},
   "outputs": [
    {
     "name": "stdout",
     "output_type": "stream",
     "text": [
      "+-------------------+\n",
      "|round(avg(open), 0)|\n",
      "+-------------------+\n",
      "|              126.0|\n",
      "+-------------------+\n",
      "\n"
     ]
    }
   ],
   "source": [
    "# Find the average 'Open' value.\n",
    "df.select(sf.round(sf.mean('open'))).show()"
   ]
  },
  {
   "cell_type": "code",
   "execution_count": 65,
   "metadata": {},
   "outputs": [
    {
     "name": "stdout",
     "output_type": "stream",
     "text": [
      "+---------+\n",
      "|max(high)|\n",
      "+---------+\n",
      "|   306.25|\n",
      "+---------+\n",
      "\n"
     ]
    }
   ],
   "source": [
    "# Get the highest 'High' value.\n",
    "df.select(sf.max('high')).show()"
   ]
  }
 ],
 "metadata": {
  "kernelspec": {
   "display_name": "Python 3.7.13 ('venv': venv)",
   "language": "python",
   "name": "python3"
  },
  "language_info": {
   "codemirror_mode": {
    "name": "ipython",
    "version": 3
   },
   "file_extension": ".py",
   "mimetype": "text/x-python",
   "name": "python",
   "nbconvert_exporter": "python",
   "pygments_lexer": "ipython3",
   "version": "3.7.13"
  },
  "orig_nbformat": 4,
  "vscode": {
   "interpreter": {
    "hash": "a3739c197794c7f362e00a70de3905028fd2f812179ab84802de3811a6478d73"
   }
  }
 },
 "nbformat": 4,
 "nbformat_minor": 2
}
